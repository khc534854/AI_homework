{
  "nbformat": 4,
  "nbformat_minor": 0,
  "metadata": {
    "colab": {
      "name": "2_Numpy를 활용한 머신러닝 - K-means 군집화.ipynb",
      "provenance": [],
      "collapsed_sections": [],
      "authorship_tag": "ABX9TyOIsfZGk+vxJNVrHlEeyQhP"
    },
    "kernelspec": {
      "name": "python3",
      "display_name": "Python 3"
    },
    "language_info": {
      "name": "python"
    }
  },
  "cells": [
    {
      "cell_type": "code",
      "metadata": {
        "id": "648s0zlrnOKd",
        "colab": {
          "base_uri": "https://localhost:8080/",
          "height": 880
        },
        "outputId": "2655a840-ae15-47a7-f4a8-4368d7efffe8"
      },
      "source": [
        "%matplotlib inline\n",
        "import numpy as np\n",
        "import matplotlib.pyplot as plt\n",
        "\n",
        "dataset = np.array([[ 1.658985,  4.285136],\n",
        "       [-3.453687,  3.424321],\n",
        "       [ 4.838138, -1.151539],\n",
        "       [-5.379713, -3.362104],\n",
        "       [ 0.972564,  2.924086],\n",
        "       [-3.567919,  1.531611],\n",
        "       [ 0.450614, -3.302219],\n",
        "       [-3.487105, -1.724432],\n",
        "       [ 2.668759,  1.594842],\n",
        "       [-3.156485,  3.191137],\n",
        "       [ 3.165506, -3.999838],\n",
        "       [-2.786837, -3.099354],\n",
        "       [ 4.208187,  2.984927],\n",
        "       [-2.123337,  2.943366],\n",
        "       [ 0.704199, -0.479481],\n",
        "       [-0.39237 , -3.963704],\n",
        "       [ 2.831667,  1.574018],\n",
        "       [-0.790153,  3.343144],\n",
        "       [ 2.943496, -3.357075],\n",
        "       [-3.195883, -2.283926],\n",
        "       [ 2.336445,  2.875106],\n",
        "       [-1.786345,  2.554248],\n",
        "       [ 2.190101, -1.90602 ],\n",
        "       [-3.403367, -2.778288],\n",
        "       [ 1.778124,  3.880832],\n",
        "       [-1.688346,  2.230267],\n",
        "       [ 2.592976, -2.054368],\n",
        "       [-4.007257, -3.207066],\n",
        "       [ 2.257734,  3.387564],\n",
        "       [-2.679011,  0.785119],\n",
        "       [ 0.939512, -4.023563],\n",
        "       [-3.674424, -2.261084],\n",
        "       [ 2.046259,  2.735279],\n",
        "       [-3.18947 ,  1.780269],\n",
        "       [ 4.372646, -0.822248],\n",
        "       [-2.579316, -3.497576],\n",
        "       [ 1.889034,  5.1904  ],\n",
        "       [-0.798747,  2.185588],\n",
        "       [ 2.83652 , -2.658556],\n",
        "       [-3.837877, -3.253815],\n",
        "       [ 2.096701,  3.886007],\n",
        "       [-2.709034,  2.923887],\n",
        "       [ 3.367037, -3.184789],\n",
        "       [-2.121479, -4.232586],\n",
        "       [ 2.329546,  3.179764],\n",
        "       [-3.284816,  3.273099],\n",
        "       [ 3.091414, -3.815232],\n",
        "       [-3.762093, -2.432191],\n",
        "       [ 3.542056,  2.778832],\n",
        "       [-1.736822,  4.241041],\n",
        "       [ 2.127073, -2.98368 ],\n",
        "       [-4.323818, -3.938116],\n",
        "       [ 3.792121,  5.135768],\n",
        "       [-4.786473,  3.358547],\n",
        "       [ 2.624081, -3.260715],\n",
        "       [-4.009299, -2.978115],\n",
        "       [ 2.493525,  1.96371 ],\n",
        "       [-2.513661,  2.642162],\n",
        "       [ 1.864375, -3.176309],\n",
        "       [-3.171184, -3.572452],\n",
        "       [ 2.89422 ,  2.489128],\n",
        "       [-2.562539,  2.884438],\n",
        "       [ 3.491078, -3.947487],\n",
        "       [-2.565729, -2.012114],\n",
        "       [ 3.332948,  3.983102],\n",
        "       [-1.616805,  3.573188],\n",
        "       [ 2.280615, -2.559444],\n",
        "       [-2.651229, -3.103198],\n",
        "       [ 2.321395,  3.154987],\n",
        "       [-1.685703,  2.939697],\n",
        "       [ 3.031012, -3.620252],\n",
        "       [-4.599622, -2.185829],\n",
        "       [ 4.196223,  1.126677],\n",
        "       [-2.133863,  3.093686],\n",
        "       [ 4.668892, -2.562705],\n",
        "       [-2.793241, -2.149706],\n",
        "       [ 2.884105,  3.043438],\n",
        "       [-2.967647,  2.848696],\n",
        "       [ 4.479332, -1.764772],\n",
        "       [-4.905566, -2.91107 ]])\n",
        "\n",
        "\n",
        "def cluster_kmeans(dataset, k):    \n",
        "    # (1) 중심점 초기화\n",
        "    min_x = dataset[:,0].min()\n",
        "    max_x = dataset[:,0].max() \n",
        "    min_y = dataset[:,1].min()\n",
        "    max_y = dataset[:,1].max() \n",
        "\n",
        "    center_x = np.random.uniform(low=min_x, high=max_x, size=k)\n",
        "    center_y = np.random.uniform(low=min_y, high=max_y, size=k)\n",
        "    centroids = np.stack([center_x,center_y],axis=-1)\n",
        "    \n",
        "    # (2) ~ (5) 순회\n",
        "    num_data = dataset.shape[0]\n",
        "    cluster_per_point = np.zeros((num_data)) # 각 점 별 군집\n",
        "\n",
        "    counter = 0\n",
        "    while True:\n",
        "        prev_cluster_per_point = cluster_per_point\n",
        "        \n",
        "        # (2) 거리 계산\n",
        "        diff_mat = (centroids.reshape(-1,1,2) - dataset.reshape(1,-1,2))\n",
        "        dists = np.sqrt((diff_mat**2).sum(axis=-1))\n",
        "        # (3) 각 데이터를 거리가 가장 가까운 군집으로 할당\n",
        "        cluster_per_point = dists.argmin(axis=0)\n",
        "        \n",
        "        # (4) 각 군집 별 점들의 평균을 계산 후, 군집의 중심점을 다시 계산\n",
        "        for i in range(k):\n",
        "            centroids[i] = dataset[cluster_per_point==i].mean(axis=0)\n",
        "\n",
        "        if np.all(prev_cluster_per_point == cluster_per_point):\n",
        "            break\n",
        "\n",
        "        counter += 1\n",
        "        plt.title(\"{}th Distribution of Dataset\".format(counter))\n",
        "        for idx, color in enumerate(['r','g','b','y']):\n",
        "            mask = (cluster_per_point==idx)\n",
        "            plt.scatter(dataset[mask,0],dataset[mask,1],\n",
        "                        label='dataset', c=color)\n",
        "            plt.scatter(centroids[:,0],centroids[:,1],\n",
        "                        s=200, label=\"centroid\", marker='+')\n",
        "        plt.show()\n",
        "    \n",
        "    return centroids\n",
        "\n",
        "cluster_kmeans(dataset,4)"
      ],
      "execution_count": 6,
      "outputs": [
        {
          "output_type": "display_data",
          "data": {
            "image/png": "[encoded data removed]",
            "text/plain": [
              "<Figure size 432x288 with 1 Axes>"
            ]
          },
          "metadata": {
            "needs_background": "light"
          }
        },
        {
          "output_type": "display_data",
          "data": {
            "image/png": "[encoded data removed]",
            "text/plain": [
              "<Figure size 432x288 with 1 Axes>"
            ]
          },
          "metadata": {
            "needs_background": "light"
          }
        },
        {
          "output_type": "display_data",
          "data": {
            "image/png": "[encoded data removed]",
            "text/plain": [
              "<Figure size 432x288 with 1 Axes>"
            ]
          },
          "metadata": {
            "needs_background": "light"
          }
        },
        {
          "output_type": "execute_result",
          "data": {
            "text/plain": [
              "array([[ 2.80293085, -2.7315146 ],\n",
              "       [ 2.6265299 ,  3.10868015],\n",
              "       [-2.46154315,  2.78737555],\n",
              "       [-3.38237045, -2.9473363 ]])"
            ]
          },
          "metadata": {},
          "execution_count": 6
        }
      ]
    }
  ]
}