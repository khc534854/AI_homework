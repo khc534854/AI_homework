{
  "nbformat": 4,
  "nbformat_minor": 0,
  "metadata": {
    "colab": {
      "name": "1_Numpy를 활용한 머신러닝 - KNN 분류기.ipynb",
      "provenance": [],
      "collapsed_sections": [],
      "authorship_tag": "ABX9TyMH5jTr04j7Am7yHUeLchGd",
      "include_colab_link": true
    },
    "kernelspec": {
      "name": "python3",
      "display_name": "Python 3"
    },
    "language_info": {
      "name": "python"
    }
  },
  "cells": [
    {
      "cell_type": "markdown",
      "metadata": {
        "id": "view-in-github",
        "colab_type": "text"
      },
      "source": [
        "<a href=\"https://colab.research.google.com/github/khc534854/AI_homework/blob/main/1_Numpy%EB%A5%BC_%ED%99%9C%EC%9A%A9%ED%95%9C_%EB%A8%B8%EC%8B%A0%EB%9F%AC%EB%8B%9D_KNN_%EB%B6%84%EB%A5%98%EA%B8%B0.ipynb\" target=\"_parent\"><img src=\"https://colab.research.google.com/assets/colab-badge.svg\" alt=\"Open In Colab\"/></a>"
      ]
    },
    {
      "cell_type": "code",
      "metadata": {
        "colab": {
          "base_uri": "https://localhost:8080/",
          "height": 34
        },
        "id": "AH3tgY_omwiC",
        "outputId": "0b03d3fe-6719-4f5a-c09a-e79aa0665622"
      },
      "source": [
        "%matplotlib inline\n",
        "import numpy as np\n",
        "import matplotlib.pyplot as plt\n",
        "\n",
        "dataset = np.array([\n",
        "    [3, 104],\n",
        "    [2, 100],\n",
        "    [1, 81],\n",
        "    [101, 10],\n",
        "    [99, 5],\n",
        "    [98, 2],\n",
        "])\n",
        "\n",
        "labels = np.array(['Romance','Romance','Romance',\n",
        "          'Action','Action','Action'])\n",
        "\n",
        "\n",
        "\n",
        "def classify_knn(inX, dataset, labels, K):\n",
        "    dists = 0\n",
        "    dists = dataset - inX\n",
        "    dists = np.array(np.sqrt(dists[:,0]**2 + dists[:,1]**2)) # 거리 계산\n",
        "    sorted_index = np.argsort(dists) # 거리순 정렬\n",
        "    sorted_labels = np.array(labels[sorted_index[:]]) # 라벨 거리순으로 정렬\n",
        "    K_nearest_labels = sorted_labels[:K] # K 개만큼 데이터 추출\n",
        "    count_dict = {}\n",
        "    for label in K_nearest_labels:\n",
        "      count_dict[label] = count_dict.get(label,0) + 1 # 추출한 데이터에서 라벨의 등장횟수 count \n",
        "    _labels, count_labels = np.unique(list(count_dict.keys())), np.unique(list(count_dict.values()))\n",
        "    return _labels[count_labels.argmax()] # 결과 반환\n",
        "\n",
        "\n",
        "classify_knn([19, 72], dataset, labels, 4) # Romance"
      ],
      "execution_count": 1,
      "outputs": [
        {
          "output_type": "execute_result",
          "data": {
            "application/vnd.google.colaboratory.intrinsic+json": {
              "type": "string"
            },
            "text/plain": [
              "'Romance'"
            ]
          },
          "metadata": {},
          "execution_count": 1
        }
      ]
    }
  ]
}