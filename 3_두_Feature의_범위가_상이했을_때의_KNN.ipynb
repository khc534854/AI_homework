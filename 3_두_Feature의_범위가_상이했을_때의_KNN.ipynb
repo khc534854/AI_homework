{
  "nbformat": 4,
  "nbformat_minor": 0,
  "metadata": {
    "colab": {
      "name": "3_두 Feature의 범위가 상이했을 때의 KNN.ipynb",
      "provenance": [],
      "collapsed_sections": [],
      "authorship_tag": "ABX9TyN9risSrvgbDFEpHBd85ugc"
    },
    "kernelspec": {
      "name": "python3",
      "display_name": "Python 3"
    },
    "language_info": {
      "name": "python"
    }
  },
  "cells": [
    {
      "cell_type": "code",
      "metadata": {
        "colab": {
          "base_uri": "https://localhost:8080/",
          "height": 312
        },
        "id": "FkrE71kawjWL",
        "outputId": "1195ecc3-8a98-402f-bccd-be81400ce12e"
      },
      "source": [
        "%matplotlib inline\n",
        "import numpy as np\n",
        "import matplotlib.pyplot as plt\n",
        "\n",
        "dataset = np.array([\n",
        "    [120, 3],\n",
        "    [105, 2],\n",
        "    [25, 12],\n",
        "    [32, 15],\n",
        "    [17, 9],\n",
        "    [98, 5],\n",
        "    [130, 1],\n",
        "    [0, 16],\n",
        "    [40, 20],\n",
        "    [100, 10]\n",
        "])\n",
        "\n",
        "labels = np.array([\"comedy\", \"comedy\", \"drama\",\n",
        "                   \"drama\",\"drama\",\"comedy\",\"comedy\",\n",
        "                   \"drama\",\"drama\",\"comedy\"])\n",
        "\n",
        "inX = np.array([60,0])\n",
        "\n",
        "plt.title(\"The Category of Movie\")\n",
        "plt.scatter(dataset[labels==\"comedy\",0],dataset[labels==\"comedy\",1],\n",
        "            label='comedy', c='g')\n",
        "plt.scatter(dataset[labels==\"drama\",0],dataset[labels==\"drama\",1],\n",
        "            label='drama', c='r')\n",
        "plt.scatter(inX[0],inX[1],label=\"?\",\n",
        "            c='b')\n",
        "\n",
        "\n",
        "\n",
        "plt.xlim(-10,140)\n",
        "plt.ylim(-10,40)\n",
        "\n",
        "plt.xlabel('The number of smile')\n",
        "plt.ylabel('The number of cry')\n",
        "plt.legend()\n",
        "plt.show()\n",
        "\n",
        "\n",
        "def classify_knn(inX, dataset, labels, K):\n",
        "    dists = 0\n",
        "    dists = dataset - inX\n",
        "\n",
        "    dists = np.array(np.sqrt(dists[:,0]**2 + (dists[:,1]*10)**2)) # 거리 계산, 코미디 태그를 가진 데이터가 갖고있는 웃음횟수와 울음횟수의 비율을 이용하여 계산시 추가로 곱함\n",
        "    \n",
        "    sorted_index = np.argsort(dists) # 거리순 정렬\n",
        "    sorted_labels = np.array(labels[sorted_index[:]]) # 라벨 거리순으로 정렬\n",
        "    K_nearest_labels = sorted_labels[:K] # K 개만큼 데이터 추출\n",
        "    count_dict = {}\n",
        "    for label in K_nearest_labels:\n",
        "      count_dict[label] = count_dict.get(label,0) + 1 # 추출한 데이터에서 라벨의 등장횟수 count \n",
        "    _labels, count_labels = np.unique(list(count_dict.keys())), np.unique(list(count_dict.values()))\n",
        "    return _labels[count_labels.argmax()] # 결과 반환\n",
        "\n",
        "\n",
        "classify_knn(inX,dataset,labels,4)"
      ],
      "execution_count": 20,
      "outputs": [
        {
          "output_type": "display_data",
          "data": {
            "image/png": "[encoded data removed]",
            "text/plain": [
              "<Figure size 432x288 with 1 Axes>"
            ]
          },
          "metadata": {
            "needs_background": "light"
          }
        },
        {
          "output_type": "execute_result",
          "data": {
            "application/vnd.google.colaboratory.intrinsic+json": {
              "type": "string"
            },
            "text/plain": [
              "'comedy'"
            ]
          },
          "metadata": {},
          "execution_count": 20
        }
      ]
    }
  ]
}